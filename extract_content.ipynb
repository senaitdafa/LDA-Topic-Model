{
 "cells": [
  {
   "cell_type": "markdown",
   "metadata": {},
   "source": []
  },
  {
   "cell_type": "markdown",
   "metadata": {},
   "source": [
    "# Article Content Extraction \n"
   ]
  },
  {
   "cell_type": "code",
   "execution_count": null,
   "metadata": {},
   "outputs": [],
   "source": []
  },
  {
   "cell_type": "code",
   "execution_count": 9,
   "metadata": {
    "cell_id": "359367e1-0772-420b-a0f3-1a1da36f9b25",
    "deepnote_cell_height": 120,
    "deepnote_cell_type": "code"
   },
   "outputs": [],
   "source": [
    "# Get current timestamp.\n",
    "from datetime import *\n",
    "now = datetime.now()\n",
    "now = now.strftime(\"%Y-%m-%d %H:%M:%S.000\")"
   ]
  },
  {
   "cell_type": "code",
   "execution_count": 10,
   "metadata": {
    "cell_id": "00001-ff5b8be0-24a3-4407-bf96-492aa04053c1",
    "deepnote_cell_height": 210,
    "deepnote_cell_type": "code",
    "id": "4KaMEAUYQO86"
   },
   "outputs": [],
   "source": [
    "# Runtime configuration.\n",
    "NUM_ARTICLES = 10\n",
    "SOURCE_CSV = '2020.csv'\n",
    "OUTPUT_CSV = 'UpennBox_SL_2020_content_extracted2.csv'\n",
    "ENV = 'local' # runtime environment (local, colab)\n",
    "BATCH_ROWS = 100 # number of rows per batch\n",
    "BATCH_DELAY = 0 # number of seconds between batches\n",
    "BEFORE_DATE = now # YYYY-MM-DD HH:MM:SS.000\n",
    "AFTER_DATE = '2019-01-01 00:00:00.000' # YYYY-MM-DD HH:MM:SS.000"
   ]
  },
  {
   "cell_type": "code",
   "execution_count": 11,
   "metadata": {
    "cell_id": "00002-823722a4-dcd8-46c0-9480-ec7fd4b82e5e",
    "deepnote_cell_height": 84,
    "deepnote_cell_type": "code",
    "id": "jhuSKh7xmj1f"
   },
   "outputs": [],
   "source": [
    "import warnings\n",
    "warnings.filterwarnings(\"ignore\")"
   ]
  },
  {
   "cell_type": "code",
   "execution_count": 12,
   "metadata": {
    "cell_id": "00003-3cd6b6c8-abee-49b9-baa3-db9ecb83247f",
    "deepnote_cell_height": 84,
    "deepnote_cell_type": "code",
    "id": "agZ_j7COl7PE"
   },
   "outputs": [
    {
     "name": "stdout",
     "output_type": "stream",
     "text": [
      "Requirement already satisfied: goose3 in /Users/senaitdafa/opt/anaconda3/lib/python3.8/site-packages (3.1.11)\n",
      "Requirement already satisfied: jieba in /Users/senaitdafa/opt/anaconda3/lib/python3.8/site-packages (from goose3) (0.42.1)\n",
      "Requirement already satisfied: nltk in /Users/senaitdafa/opt/anaconda3/lib/python3.8/site-packages (from goose3) (3.5)\n",
      "Requirement already satisfied: python-dateutil in /Users/senaitdafa/opt/anaconda3/lib/python3.8/site-packages (from goose3) (2.8.1)\n",
      "Requirement already satisfied: langdetect in /Users/senaitdafa/opt/anaconda3/lib/python3.8/site-packages (from goose3) (1.0.9)\n",
      "Requirement already satisfied: cssselect in /Users/senaitdafa/opt/anaconda3/lib/python3.8/site-packages (from goose3) (1.1.0)\n",
      "Requirement already satisfied: Pillow in /Users/senaitdafa/opt/anaconda3/lib/python3.8/site-packages (from goose3) (8.0.1)\n",
      "Requirement already satisfied: beautifulsoup4 in /Users/senaitdafa/opt/anaconda3/lib/python3.8/site-packages (from goose3) (4.9.3)\n",
      "Requirement already satisfied: lxml in /Users/senaitdafa/opt/anaconda3/lib/python3.8/site-packages (from goose3) (4.6.1)\n",
      "Requirement already satisfied: requests in /Users/senaitdafa/opt/anaconda3/lib/python3.8/site-packages (from goose3) (2.24.0)\n",
      "Requirement already satisfied: click in /Users/senaitdafa/opt/anaconda3/lib/python3.8/site-packages (from nltk->goose3) (7.1.2)\n",
      "Requirement already satisfied: regex in /Users/senaitdafa/opt/anaconda3/lib/python3.8/site-packages (from nltk->goose3) (2020.10.15)\n",
      "Requirement already satisfied: tqdm in /Users/senaitdafa/opt/anaconda3/lib/python3.8/site-packages (from nltk->goose3) (4.50.2)\n",
      "Requirement already satisfied: joblib in /Users/senaitdafa/opt/anaconda3/lib/python3.8/site-packages (from nltk->goose3) (0.17.0)\n",
      "Requirement already satisfied: six>=1.5 in /Users/senaitdafa/opt/anaconda3/lib/python3.8/site-packages (from python-dateutil->goose3) (1.15.0)\n",
      "Requirement already satisfied: soupsieve>1.2; python_version >= \"3.0\" in /Users/senaitdafa/opt/anaconda3/lib/python3.8/site-packages (from beautifulsoup4->goose3) (2.0.1)\n",
      "Requirement already satisfied: idna<3,>=2.5 in /Users/senaitdafa/opt/anaconda3/lib/python3.8/site-packages (from requests->goose3) (2.10)\n",
      "Requirement already satisfied: chardet<4,>=3.0.2 in /Users/senaitdafa/opt/anaconda3/lib/python3.8/site-packages (from requests->goose3) (3.0.4)\n",
      "Requirement already satisfied: certifi>=2017.4.17 in /Users/senaitdafa/opt/anaconda3/lib/python3.8/site-packages (from requests->goose3) (2020.6.20)\n",
      "Requirement already satisfied: urllib3!=1.25.0,!=1.25.1,<1.26,>=1.21.1 in /Users/senaitdafa/opt/anaconda3/lib/python3.8/site-packages (from requests->goose3) (1.25.11)\n",
      "Note: you may need to restart the kernel to use updated packages.\n"
     ]
    }
   ],
   "source": [
    "# This will run if goose3 is not already installed.\n",
    "%pip install goose3"
   ]
  },
  {
   "cell_type": "code",
   "execution_count": 14,
   "metadata": {
    "cell_id": "00006-e95ab809-17aa-4594-aa21-a0b1565ebe16",
    "deepnote_cell_height": 120,
    "deepnote_cell_type": "code",
    "id": "iN1I6gxbj4b6"
   },
   "outputs": [
    {
     "data": {
      "text/html": [
       "<div>\n",
       "<style scoped>\n",
       "    .dataframe tbody tr th:only-of-type {\n",
       "        vertical-align: middle;\n",
       "    }\n",
       "\n",
       "    .dataframe tbody tr th {\n",
       "        vertical-align: top;\n",
       "    }\n",
       "\n",
       "    .dataframe thead th {\n",
       "        text-align: right;\n",
       "    }\n",
       "</style>\n",
       "<table border=\"1\" class=\"dataframe\">\n",
       "  <thead>\n",
       "    <tr style=\"text-align: right;\">\n",
       "      <th></th>\n",
       "      <th>gkgrecordid</th>\n",
       "      <th>date</th>\n",
       "      <th>sourcecollectionidentifier</th>\n",
       "      <th>sourcecommonname</th>\n",
       "      <th>documentidentifier</th>\n",
       "      <th>counts</th>\n",
       "      <th>locations</th>\n",
       "      <th>organizations</th>\n",
       "      <th>themes</th>\n",
       "      <th>persons</th>\n",
       "      <th>tone</th>\n",
       "      <th>dates</th>\n",
       "      <th>amounts</th>\n",
       "      <th>translationinfo</th>\n",
       "      <th>country</th>\n",
       "      <th>year</th>\n",
       "    </tr>\n",
       "  </thead>\n",
       "  <tbody>\n",
       "    <tr>\n",
       "      <th>0</th>\n",
       "      <td>20200316171500-563</td>\n",
       "      <td>2020-03-16 17:15:00.000</td>\n",
       "      <td>1</td>\n",
       "      <td>570news.com</td>\n",
       "      <td>https://www.570news.com/2020/03/16/new-africa-...</td>\n",
       "      <td>[{count_type=KILL, count=11, object_type=, loc...</td>\n",
       "      <td>[{location_type=4, location_fullname=Monrovia,...</td>\n",
       "      <td>[{organization=Associated Press, character_off...</td>\n",
       "      <td>[{theme=UNGP_EDUCATION, character_offset=4791}...</td>\n",
       "      <td>[{person=Shakira Choonara, character_offset=40...</td>\n",
       "      <td>{tone=-3.86052303860523, positive_score=3.1133...</td>\n",
       "      <td>NaN</td>\n",
       "      <td>[{amount=30, object=of Africa 54 countries, ch...</td>\n",
       "      <td>NaN</td>\n",
       "      <td>SL</td>\n",
       "      <td>2020</td>\n",
       "    </tr>\n",
       "    <tr>\n",
       "      <th>1</th>\n",
       "      <td>20200316171500-973</td>\n",
       "      <td>2020-03-16 17:15:00.000</td>\n",
       "      <td>1</td>\n",
       "      <td>yahoo.com</td>\n",
       "      <td>https://news.yahoo.com/africell-holding-comple...</td>\n",
       "      <td>NaN</td>\n",
       "      <td>[{location_type=1, location_fullname=Sierra Le...</td>\n",
       "      <td>[{organization=Africell Holding, character_off...</td>\n",
       "      <td>[{theme=GENERAL_GOVERNMENT, character_offset=1...</td>\n",
       "      <td>[{person=Ziad Dalloul, character_offset=817}, ...</td>\n",
       "      <td>{tone=4.67445742904841, positive_score=5.34223...</td>\n",
       "      <td>NaN</td>\n",
       "      <td>[{amount=12000000, object=customers, character...</td>\n",
       "      <td>NaN</td>\n",
       "      <td>SL</td>\n",
       "      <td>2020</td>\n",
       "    </tr>\n",
       "    <tr>\n",
       "      <th>2</th>\n",
       "      <td>20200316171500-1417</td>\n",
       "      <td>2020-03-16 17:15:00.000</td>\n",
       "      <td>1</td>\n",
       "      <td>stuff.co.nz</td>\n",
       "      <td>https://www.stuff.co.nz/timaru-herald/news/120...</td>\n",
       "      <td>NaN</td>\n",
       "      <td>[{location_type=1, location_fullname=Sierra Le...</td>\n",
       "      <td>NaN</td>\n",
       "      <td>[{theme=TAX_WORLDFISH_BANJOS, character_offset...</td>\n",
       "      <td>[{person=John Trotter, character_offset=2650},...</td>\n",
       "      <td>{tone=1.6, positive_score=2.2, negative_score=...</td>\n",
       "      <td>[{date_resolution=1, month=0, day=0, year=1963...</td>\n",
       "      <td>NaN</td>\n",
       "      <td>NaN</td>\n",
       "      <td>SL</td>\n",
       "      <td>2020</td>\n",
       "    </tr>\n",
       "    <tr>\n",
       "      <th>3</th>\n",
       "      <td>20200316171500-1483</td>\n",
       "      <td>2020-03-16 17:15:00.000</td>\n",
       "      <td>1</td>\n",
       "      <td>bmj.com</td>\n",
       "      <td>https://www.bmj.com/content/368/bmj.m481/rr</td>\n",
       "      <td>NaN</td>\n",
       "      <td>[{location_type=1, location_fullname=Sierra Le...</td>\n",
       "      <td>NaN</td>\n",
       "      <td>[{theme=GENERAL_GOVERNMENT, character_offset=3...</td>\n",
       "      <td>[{person=Jenny Gibson, character_offset=63}]</td>\n",
       "      <td>{tone=1.36054421768708, positive_score=3.40136...</td>\n",
       "      <td>NaN</td>\n",
       "      <td>NaN</td>\n",
       "      <td>NaN</td>\n",
       "      <td>SL</td>\n",
       "      <td>2020</td>\n",
       "    </tr>\n",
       "    <tr>\n",
       "      <th>4</th>\n",
       "      <td>20200316171500-2485</td>\n",
       "      <td>2020-03-16 17:15:00.000</td>\n",
       "      <td>1</td>\n",
       "      <td>venturesafrica.com</td>\n",
       "      <td>http://venturesafrica.com/apostories/25-police...</td>\n",
       "      <td>NaN</td>\n",
       "      <td>[{location_type=1, location_fullname=Sierra Le...</td>\n",
       "      <td>[{organization=Police Contributing Countries P...</td>\n",
       "      <td>[{theme=TAX_FNCACT_ASSISTANT, character_offset...</td>\n",
       "      <td>[{person=Rex Dundun, character_offset=1319}, {...</td>\n",
       "      <td>{tone=1.04712041884817, positive_score=2.35602...</td>\n",
       "      <td>NaN</td>\n",
       "      <td>[{amount=25, object=newly deployed Individual ...</td>\n",
       "      <td>NaN</td>\n",
       "      <td>SL</td>\n",
       "      <td>2020</td>\n",
       "    </tr>\n",
       "  </tbody>\n",
       "</table>\n",
       "</div>"
      ],
      "text/plain": [
       "           gkgrecordid                     date  sourcecollectionidentifier  \\\n",
       "0   20200316171500-563  2020-03-16 17:15:00.000                           1   \n",
       "1   20200316171500-973  2020-03-16 17:15:00.000                           1   \n",
       "2  20200316171500-1417  2020-03-16 17:15:00.000                           1   \n",
       "3  20200316171500-1483  2020-03-16 17:15:00.000                           1   \n",
       "4  20200316171500-2485  2020-03-16 17:15:00.000                           1   \n",
       "\n",
       "     sourcecommonname                                 documentidentifier  \\\n",
       "0         570news.com  https://www.570news.com/2020/03/16/new-africa-...   \n",
       "1           yahoo.com  https://news.yahoo.com/africell-holding-comple...   \n",
       "2         stuff.co.nz  https://www.stuff.co.nz/timaru-herald/news/120...   \n",
       "3             bmj.com        https://www.bmj.com/content/368/bmj.m481/rr   \n",
       "4  venturesafrica.com  http://venturesafrica.com/apostories/25-police...   \n",
       "\n",
       "                                              counts  \\\n",
       "0  [{count_type=KILL, count=11, object_type=, loc...   \n",
       "1                                                NaN   \n",
       "2                                                NaN   \n",
       "3                                                NaN   \n",
       "4                                                NaN   \n",
       "\n",
       "                                           locations  \\\n",
       "0  [{location_type=4, location_fullname=Monrovia,...   \n",
       "1  [{location_type=1, location_fullname=Sierra Le...   \n",
       "2  [{location_type=1, location_fullname=Sierra Le...   \n",
       "3  [{location_type=1, location_fullname=Sierra Le...   \n",
       "4  [{location_type=1, location_fullname=Sierra Le...   \n",
       "\n",
       "                                       organizations  \\\n",
       "0  [{organization=Associated Press, character_off...   \n",
       "1  [{organization=Africell Holding, character_off...   \n",
       "2                                                NaN   \n",
       "3                                                NaN   \n",
       "4  [{organization=Police Contributing Countries P...   \n",
       "\n",
       "                                              themes  \\\n",
       "0  [{theme=UNGP_EDUCATION, character_offset=4791}...   \n",
       "1  [{theme=GENERAL_GOVERNMENT, character_offset=1...   \n",
       "2  [{theme=TAX_WORLDFISH_BANJOS, character_offset...   \n",
       "3  [{theme=GENERAL_GOVERNMENT, character_offset=3...   \n",
       "4  [{theme=TAX_FNCACT_ASSISTANT, character_offset...   \n",
       "\n",
       "                                             persons  \\\n",
       "0  [{person=Shakira Choonara, character_offset=40...   \n",
       "1  [{person=Ziad Dalloul, character_offset=817}, ...   \n",
       "2  [{person=John Trotter, character_offset=2650},...   \n",
       "3       [{person=Jenny Gibson, character_offset=63}]   \n",
       "4  [{person=Rex Dundun, character_offset=1319}, {...   \n",
       "\n",
       "                                                tone  \\\n",
       "0  {tone=-3.86052303860523, positive_score=3.1133...   \n",
       "1  {tone=4.67445742904841, positive_score=5.34223...   \n",
       "2  {tone=1.6, positive_score=2.2, negative_score=...   \n",
       "3  {tone=1.36054421768708, positive_score=3.40136...   \n",
       "4  {tone=1.04712041884817, positive_score=2.35602...   \n",
       "\n",
       "                                               dates  \\\n",
       "0                                                NaN   \n",
       "1                                                NaN   \n",
       "2  [{date_resolution=1, month=0, day=0, year=1963...   \n",
       "3                                                NaN   \n",
       "4                                                NaN   \n",
       "\n",
       "                                             amounts  translationinfo country  \\\n",
       "0  [{amount=30, object=of Africa 54 countries, ch...              NaN      SL   \n",
       "1  [{amount=12000000, object=customers, character...              NaN      SL   \n",
       "2                                                NaN              NaN      SL   \n",
       "3                                                NaN              NaN      SL   \n",
       "4  [{amount=25, object=newly deployed Individual ...              NaN      SL   \n",
       "\n",
       "   year  \n",
       "0  2020  \n",
       "1  2020  \n",
       "2  2020  \n",
       "3  2020  \n",
       "4  2020  "
      ]
     },
     "execution_count": 14,
     "metadata": {},
     "output_type": "execute_result"
    }
   ],
   "source": [
    "# Load input into a dataframe.\n",
    "import pandas as pd\n",
    "df = pd.read_csv(SOURCE_CSV)\n",
    "df.head()"
   ]
  },
  {
   "cell_type": "code",
   "execution_count": 20,
   "metadata": {
    "cell_id": "00007-a62fb7c8-bf2d-44be-b379-ef627d717848",
    "deepnote_cell_height": 102,
    "deepnote_cell_type": "code"
   },
   "outputs": [
    {
     "data": {
      "text/plain": [
       "(36000, 16)"
      ]
     },
     "execution_count": 20,
     "metadata": {},
     "output_type": "execute_result"
    }
   ],
   "source": [
    "# Restrict by date.\n",
    "period_df = df[(df['date'] < BEFORE_DATE) & (df['date'] > AFTER_DATE)]\n",
    "period_df.shape"
   ]
  },
  {
   "cell_type": "code",
   "execution_count": 27,
   "metadata": {
    "cell_id": "00008-b323b21d-48f1-44f4-bfb4-86c3713ad185",
    "deepnote_cell_height": 174,
    "deepnote_cell_type": "code",
    "id": "PbyTuLSpkLTv"
   },
   "outputs": [
    {
     "name": "stdout",
     "output_type": "stream",
     "text": [
      "true\n"
     ]
    },
    {
     "data": {
      "text/plain": [
       "(10, 16)"
      ]
     },
     "execution_count": 27,
     "metadata": {},
     "output_type": "execute_result"
    }
   ],
   "source": [
    "# Restrict by number of rows.\n",
    "if len(period_df) > NUM_ARTICLES:\n",
    "    small_df = period_df[:NUM_ARTICLES]\n",
    "else:\n",
    "    small_df = period_df\n",
    "\n",
    "small_df.shape"
   ]
  },
  {
   "cell_type": "code",
   "execution_count": 28,
   "metadata": {
    "cell_id": "00009-852b5f7f-f694-45c9-9d2a-55d13fde9a76",
    "deepnote_cell_height": 570,
    "deepnote_cell_type": "code",
    "id": "LiDBjgSFkdLU"
   },
   "outputs": [],
   "source": [
    "# Run dataframe rows through Goose3 extraction.\n",
    "from goose3 import Goose\n",
    "import csv\n",
    "import time\n",
    "\n",
    "g = Goose()\n",
    "small_df_copy = period_df[['gkgrecordid', 'date', 'documentidentifier']]\n",
    "small_df_copy['content'] = ''\n",
    "batch = 0\n",
    "\n",
    "for index, row in small_df.iterrows():\n",
    "    \n",
    "    batch = batch + 1\n",
    "    if batch >= BATCH_ROWS:\n",
    "        time.sleep(BATCH_DELAY)\n",
    "        batch = 0\n",
    "\n",
    "    url = row['documentidentifier']\n",
    "    \n",
    "    try:\n",
    "        g.extract(url=url)\n",
    "        article = g.extract(url=url)\n",
    "        content = article.cleaned_text\n",
    "        small_df_copy.loc[index, 'content'] = content\n",
    "    except Exception:\n",
    "        pass\n",
    "\n",
    "small_df_copy.to_csv(OUTPUT_CSV, \n",
    "                     index=False, quoting=csv.QUOTE_ALL)"
   ]
  },
  {
   "cell_type": "markdown",
   "metadata": {
    "created_in_deepnote_cell": true,
    "deepnote_cell_type": "markdown",
    "tags": []
   },
   "source": [
    "<a style='text-decoration:none;line-height:16px;display:flex;color:#5B5B62;padding:10px;justify-content:end;' href='https://deepnote.com?utm_source=created-in-deepnote-cell&projectId=4f0fda59-c6a8-4e8e-8948-140616c5cf47' target=\"_blank\">\n",
    "<img alt='Created in deepnote.com' style='display:inline;max-height:16px;margin:0px;margin-right:7.5px;' src='data:image/svg+xml;base64,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' > </img>\n",
    "Created in <span style='font-weight:600;margin-left:4px;'>Deepnote</span></a>"
   ]
  }
 ],
 "metadata": {
  "colab": {
   "authorship_tag": "ABX9TyM+XBRqsEsTw19GNbnJpbof",
   "collapsed_sections": [],
   "name": "goose3_tests.ipynb",
   "provenance": []
  },
  "deepnote": {},
  "deepnote_execution_queue": [],
  "deepnote_notebook_id": "f40c0478-1958-490b-bf49-b5fd0af0d3b8",
  "kernelspec": {
   "display_name": "Python 3",
   "language": "python",
   "name": "python3"
  },
  "language_info": {
   "codemirror_mode": {
    "name": "ipython",
    "version": 3
   },
   "file_extension": ".py",
   "mimetype": "text/x-python",
   "name": "python",
   "nbconvert_exporter": "python",
   "pygments_lexer": "ipython3",
   "version": "3.8.5"
  }
 },
 "nbformat": 4,
 "nbformat_minor": 4
}
