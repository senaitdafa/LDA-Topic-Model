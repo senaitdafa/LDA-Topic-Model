{
 "cells": [
  {
   "cell_type": "markdown",
   "metadata": {},
   "source": [
    "# Article Content Extraction \n"
   ]
  },
  {
   "cell_type": "markdown",
   "metadata": {},
   "source": [
    "**Input:** A GDELT dataframe populated with online articles \\\n",
    "**Execution** Descriptions: scrapes each article/row for its content, addes the content as a list of words to the input dataframe\\\n",
    "**Output:** The original dataframe with a column appended containing a list of words from the article.\n",
    "\n",
    "*The output for this notebook creates the input for the unsupervised topic model.*\n",
    "\n",
    "### Runtime Configuration Settings\n",
    "    -NUM_ARTICLES: specify the number of articles you would like to process here. \n",
    "    -SOURCE_CSV: Update the input URL here\n",
    "    -OUTPUT_CSV: name of output CSV\n",
    "    -BATCH_ROWS: number of rows per batch\n",
    "    -BATCH_DELAY: number of seconds between batches\n",
    "    -BEFORE_DATE: change the start date range for the articles returned. Formatted in YYYY-MM-DD HH:MM:SS.000\n",
    "    -AFTER_DATE = change the end date range for the articles returned.'2019-01-01 00:00:00.000' # YYYY-MM-DD HH:MM:SS.000\n"
   ]
  },
  {
   "cell_type": "markdown",
   "metadata": {},
   "source": [
    "## Package Installation"
   ]
  },
  {
   "cell_type": "code",
   "execution_count": 1,
   "metadata": {
    "cell_id": "00003-3cd6b6c8-abee-49b9-baa3-db9ecb83247f",
    "deepnote_cell_height": 84,
    "deepnote_cell_type": "code",
    "id": "agZ_j7COl7PE"
   },
   "outputs": [],
   "source": [
    "# This will run if goose3 is not already installed.\n",
    "%pip install goose3"
   ]
  },
  {
   "cell_type": "markdown",
   "metadata": {},
   "source": [
    "## Imports"
   ]
  },
  {
   "cell_type": "code",
   "execution_count": 2,
   "metadata": {},
   "outputs": [],
   "source": [
    "import warnings\n",
    "warnings.filterwarnings(\"ignore\")\n",
    "\n",
    "import pandas as pd\n",
    "from datetime import *\n",
    "from goose3 import Goose\n",
    "import csv\n",
    "import time\n"
   ]
  },
  {
   "cell_type": "markdown",
   "metadata": {},
   "source": [
    "## Get current timestamp"
   ]
  },
  {
   "cell_type": "code",
   "execution_count": 3,
   "metadata": {
    "cell_id": "359367e1-0772-420b-a0f3-1a1da36f9b25",
    "deepnote_cell_height": 120,
    "deepnote_cell_type": "code"
   },
   "outputs": [],
   "source": [
    "now = datetime.now()\n",
    "now = now.strftime(\"%Y-%m-%d %H:%M:%S.000\")"
   ]
  },
  {
   "cell_type": "markdown",
   "metadata": {},
   "source": [
    "## Runtime configuration\n"
   ]
  },
  {
   "cell_type": "code",
   "execution_count": 10,
   "metadata": {
    "cell_id": "00001-ff5b8be0-24a3-4407-bf96-492aa04053c1",
    "deepnote_cell_height": 210,
    "deepnote_cell_type": "code",
    "id": "4KaMEAUYQO86"
   },
   "outputs": [],
   "source": [
    "NUM_ARTICLES = 10\n",
    "SOURCE_CSV = '2020.csv'\n",
    "OUTPUT_CSV = 'UpennBox_SL_2020_content_extracted.csv'\n",
    "BATCH_ROWS = 100 # number of rows per batch\n",
    "BATCH_DELAY = 0 # number of seconds between batches\n",
    "BEFORE_DATE = now # YYYY-MM-DD HH:MM:SS.000\n",
    "AFTER_DATE = '2019-01-01 00:00:00.000' # YYYY-MM-DD HH:MM:SS.000"
   ]
  },
  {
   "cell_type": "markdown",
   "metadata": {},
   "source": [
    "## Load input into a dataframe\n"
   ]
  },
  {
   "cell_type": "code",
   "execution_count": null,
   "metadata": {
    "cell_id": "00006-e95ab809-17aa-4594-aa21-a0b1565ebe16",
    "deepnote_cell_height": 120,
    "deepnote_cell_type": "code",
    "id": "iN1I6gxbj4b6"
   },
   "outputs": [],
   "source": [
    "df = pd.read_csv(SOURCE_CSV)\n",
    "df.head()"
   ]
  },
  {
   "cell_type": "markdown",
   "metadata": {},
   "source": [
    "## Restrict by date\n"
   ]
  },
  {
   "cell_type": "code",
   "execution_count": 20,
   "metadata": {
    "cell_id": "00007-a62fb7c8-bf2d-44be-b379-ef627d717848",
    "deepnote_cell_height": 102,
    "deepnote_cell_type": "code"
   },
   "outputs": [
    {
     "data": {
      "text/plain": [
       "(36000, 16)"
      ]
     },
     "execution_count": 20,
     "metadata": {},
     "output_type": "execute_result"
    }
   ],
   "source": [
    "period_df = df[(df['date'] < BEFORE_DATE) & (df['date'] > AFTER_DATE)]\n",
    "period_df.shape"
   ]
  },
  {
   "cell_type": "markdown",
   "metadata": {},
   "source": [
    "## Restrict by number of rows\n"
   ]
  },
  {
   "cell_type": "code",
   "execution_count": 27,
   "metadata": {
    "cell_id": "00008-b323b21d-48f1-44f4-bfb4-86c3713ad185",
    "deepnote_cell_height": 174,
    "deepnote_cell_type": "code",
    "id": "PbyTuLSpkLTv"
   },
   "outputs": [
    {
     "name": "stdout",
     "output_type": "stream",
     "text": [
      "true\n"
     ]
    },
    {
     "data": {
      "text/plain": [
       "(10, 16)"
      ]
     },
     "execution_count": 27,
     "metadata": {},
     "output_type": "execute_result"
    }
   ],
   "source": [
    "if len(period_df) > NUM_ARTICLES:\n",
    "    period_df = period_df[:NUM_ARTICLES]\n",
    "else:\n",
    "    period_df = period_df\n"
   ]
  },
  {
   "cell_type": "markdown",
   "metadata": {},
   "source": [
    "## Run dataframe rows through Goose3 extraction"
   ]
  },
  {
   "cell_type": "code",
   "execution_count": 28,
   "metadata": {
    "cell_id": "00009-852b5f7f-f694-45c9-9d2a-55d13fde9a76",
    "deepnote_cell_height": 570,
    "deepnote_cell_type": "code",
    "id": "LiDBjgSFkdLU"
   },
   "outputs": [],
   "source": [
    "g = Goose()\n",
    "small_df_copy = period_df[['gkgrecordid', 'date', 'documentidentifier']]\n",
    "small_df_copy['content'] = ''\n",
    "batch = 0\n",
    "\n",
    "for index, row in small_df.iterrows():\n",
    "    \n",
    "    batch = batch + 1\n",
    "    if batch >= BATCH_ROWS:\n",
    "        time.sleep(BATCH_DELAY)\n",
    "        batch = 0\n",
    "\n",
    "    url = row['documentidentifier']\n",
    "    \n",
    "    try:\n",
    "        g.extract(url=url)\n",
    "        article = g.extract(url=url)\n",
    "        content = article.cleaned_text\n",
    "        small_df_copy.loc[index, 'content'] = content\n",
    "    except Exception:\n",
    "        pass\n",
    "\n",
    "small_df_copy.to_csv(OUTPUT_CSV, \n",
    "                     index=False, quoting=csv.QUOTE_ALL)"
   ]
  },
  {
   "cell_type": "markdown",
   "metadata": {
    "created_in_deepnote_cell": true,
    "deepnote_cell_type": "markdown",
    "tags": []
   },
   "source": [
    "<a style='text-decoration:none;line-height:16px;display:flex;color:#5B5B62;padding:10px;justify-content:end;' href='https://deepnote.com?utm_source=created-in-deepnote-cell&projectId=4f0fda59-c6a8-4e8e-8948-140616c5cf47' target=\"_blank\">\n",
    "<img alt='Created in deepnote.com' style='display:inline;max-height:16px;margin:0px;margin-right:7.5px;' src='data:image/svg+xml;base64,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' > </img>\n",
    "Created in <span style='font-weight:600;margin-left:4px;'>Deepnote</span></a>"
   ]
  }
 ],
 "metadata": {
  "colab": {
   "authorship_tag": "ABX9TyM+XBRqsEsTw19GNbnJpbof",
   "collapsed_sections": [],
   "name": "goose3_tests.ipynb",
   "provenance": []
  },
  "deepnote": {},
  "deepnote_execution_queue": [],
  "deepnote_notebook_id": "f40c0478-1958-490b-bf49-b5fd0af0d3b8",
  "kernelspec": {
   "display_name": "Python 3",
   "language": "python",
   "name": "python3"
  },
  "language_info": {
   "codemirror_mode": {
    "name": "ipython",
    "version": 3
   },
   "file_extension": ".py",
   "mimetype": "text/x-python",
   "name": "python",
   "nbconvert_exporter": "python",
   "pygments_lexer": "ipython3",
   "version": "3.8.5"
  }
 },
 "nbformat": 4,
 "nbformat_minor": 4
}
